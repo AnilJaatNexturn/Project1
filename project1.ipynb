{
 "cells": [
  {
   "cell_type": "code",
   "execution_count": 4,
   "id": "86743228",
   "metadata": {},
   "outputs": [],
   "source": [
    "from pyspark.sql import SparkSession"
   ]
  },
  {
   "cell_type": "code",
   "execution_count": 5,
   "id": "dc682005",
   "metadata": {},
   "outputs": [
    {
     "name": "stdout",
     "output_type": "stream",
     "text": [
      "Requirement already satisfied: pyspark in c:\\python3.11\\lib\\site-packages (3.2.3)\n",
      "Requirement already satisfied: py4j==0.10.9.5 in c:\\python3.11\\lib\\site-packages (from pyspark) (0.10.9.5)\n",
      "Note: you may need to restart the kernel to use updated packages.\n"
     ]
    }
   ],
   "source": [
    "pip install pyspark"
   ]
  },
  {
   "cell_type": "code",
   "execution_count": 6,
   "id": "9dac0216",
   "metadata": {},
   "outputs": [],
   "source": [
    "spark = SparkSession.builder \\\n",
    "      .master(\"local[1]\") \\\n",
    "      .appName(\"demo1\") \\\n",
    "      .getOrCreate() "
   ]
  },
  {
   "cell_type": "code",
   "execution_count": 55,
   "id": "7a482b80",
   "metadata": {},
   "outputs": [],
   "source": [
    "rdd1 = spark.read.csv(\"C:/Users/Lenovo/IdeaProjects/Project1/Input/CapstoneMarketAnalysis.csv\",header=True)\n"
   ]
  },
  {
   "cell_type": "code",
   "execution_count": 56,
   "id": "9aa685a0",
   "metadata": {},
   "outputs": [
    {
     "name": "stdout",
     "output_type": "stream",
     "text": [
      "root\n",
      " |-- age: string (nullable = true)\n",
      " |-- job: string (nullable = true)\n",
      " |-- marital: string (nullable = true)\n",
      " |-- education: string (nullable = true)\n",
      " |-- default: string (nullable = true)\n",
      " |-- balance: string (nullable = true)\n",
      " |-- housing: string (nullable = true)\n",
      " |-- loan: string (nullable = true)\n",
      " |-- contact: string (nullable = true)\n",
      " |-- day: string (nullable = true)\n",
      " |-- month: string (nullable = true)\n",
      " |-- duration: string (nullable = true)\n",
      " |-- campaign: string (nullable = true)\n",
      " |-- pdays: string (nullable = true)\n",
      " |-- previous: string (nullable = true)\n",
      " |-- poutcome: string (nullable = true)\n",
      " |-- y: string (nullable = true)\n",
      "\n"
     ]
    }
   ],
   "source": [
    "rdd1.printSchema()"
   ]
  },
  {
   "cell_type": "code",
   "execution_count": 57,
   "id": "e29831ea",
   "metadata": {},
   "outputs": [
    {
     "name": "stdout",
     "output_type": "stream",
     "text": [
      "+---+------------+--------+---------+-------+-------+-------+----+-------+---+-----+--------+--------+-----+--------+--------+---+\n",
      "|age|         job| marital|education|default|balance|housing|loan|contact|day|month|duration|campaign|pdays|previous|poutcome|  y|\n",
      "+---+------------+--------+---------+-------+-------+-------+----+-------+---+-----+--------+--------+-----+--------+--------+---+\n",
      "| 58|  management| married| tertiary|     no|   2143|    yes|  no|unknown|  5|  may|     261|       1|   -1|       0| unknown| no|\n",
      "| 44|  technician|  single|secondary|     no|     29|    yes|  no|unknown|  5|  may|     151|       1|   -1|       0| unknown| no|\n",
      "| 33|entrepreneur| married|secondary|     no|      2|    yes| yes|unknown|  5|  may|      76|       1|   -1|       0| unknown| no|\n",
      "| 47| blue-collar| married|  unknown|     no|   1506|    yes|  no|unknown|  5|  may|      92|       1|   -1|       0| unknown| no|\n",
      "| 33|     unknown|  single|  unknown|     no|      1|     no|  no|unknown|  5|  may|     198|       1|   -1|       0| unknown| no|\n",
      "| 35|  management| married| tertiary|     no|    231|    yes|  no|unknown|  5|  may|     139|       1|   -1|       0| unknown| no|\n",
      "| 28|  management|  single| tertiary|     no|    447|    yes| yes|unknown|  5|  may|     217|       1|   -1|       0| unknown| no|\n",
      "| 42|entrepreneur|divorced| tertiary|    yes|      2|    yes|  no|unknown|  5|  may|     380|       1|   -1|       0| unknown| no|\n",
      "| 58|     retired| married|  primary|     no|    121|    yes|  no|unknown|  5|  may|      50|       1|   -1|       0| unknown| no|\n",
      "| 43|  technician|  single|secondary|     no|    593|    yes|  no|unknown|  5|  may|      55|       1|   -1|       0| unknown| no|\n",
      "| 41|      admin.|divorced|secondary|     no|    270|    yes|  no|unknown|  5|  may|     222|       1|   -1|       0| unknown| no|\n",
      "| 29|      admin.|  single|secondary|     no|    390|    yes|  no|unknown|  5|  may|     137|       1|   -1|       0| unknown| no|\n",
      "| 53|  technician| married|secondary|     no|      6|    yes|  no|unknown|  5|  may|     517|       1|   -1|       0| unknown| no|\n",
      "| 58|  technician| married|  unknown|     no|     71|    yes|  no|unknown|  5|  may|      71|       1|   -1|       0| unknown| no|\n",
      "| 57|    services| married|secondary|     no|    162|    yes|  no|unknown|  5|  may|     174|       1|   -1|       0| unknown| no|\n",
      "| 51|     retired| married|  primary|     no|    229|    yes|  no|unknown|  5|  may|     353|       1|   -1|       0| unknown| no|\n",
      "| 45|      admin.|  single|  unknown|     no|     13|    yes|  no|unknown|  5|  may|      98|       1|   -1|       0| unknown| no|\n",
      "| 57| blue-collar| married|  primary|     no|     52|    yes|  no|unknown|  5|  may|      38|       1|   -1|       0| unknown| no|\n",
      "| 60|     retired| married|  primary|     no|     60|    yes|  no|unknown|  5|  may|     219|       1|   -1|       0| unknown| no|\n",
      "| 33|    services| married|secondary|     no|      0|    yes|  no|unknown|  5|  may|      54|       1|   -1|       0| unknown| no|\n",
      "+---+------------+--------+---------+-------+-------+-------+----+-------+---+-----+--------+--------+-----+--------+--------+---+\n",
      "only showing top 20 rows\n",
      "\n"
     ]
    }
   ],
   "source": [
    "rdd1.show()"
   ]
  },
  {
   "cell_type": "code",
   "execution_count": 58,
   "id": "8057c710",
   "metadata": {},
   "outputs": [],
   "source": [
    "rdd1.createOrReplaceTempView(\"table1\")"
   ]
  },
  {
   "cell_type": "code",
   "execution_count": 20,
   "id": "07c48155",
   "metadata": {},
   "outputs": [],
   "source": [
    "rdd2=spark.sql(\"select count(*) as scount from table1 where poutcome='success'\")"
   ]
  },
  {
   "cell_type": "code",
   "execution_count": 21,
   "id": "2aca1432",
   "metadata": {},
   "outputs": [
    {
     "name": "stdout",
     "output_type": "stream",
     "text": [
      "+------+\n",
      "|scount|\n",
      "+------+\n",
      "|  1511|\n",
      "+------+\n",
      "\n"
     ]
    }
   ],
   "source": [
    "rdd2.show()"
   ]
  },
  {
   "cell_type": "code",
   "execution_count": 21,
   "id": "ba936f47",
   "metadata": {},
   "outputs": [],
   "source": [
    "rdd3=spark.sql(\"select count(*) as fcount from table1 where poutcome='failure'\")"
   ]
  },
  {
   "cell_type": "code",
   "execution_count": 25,
   "id": "5947085b",
   "metadata": {},
   "outputs": [
    {
     "name": "stdout",
     "output_type": "stream",
     "text": [
      "+------+\n",
      "|fcount|\n",
      "+------+\n",
      "|  4901|\n",
      "+------+\n",
      "\n"
     ]
    }
   ],
   "source": [
    "rdd3.show()"
   ]
  },
  {
   "cell_type": "code",
   "execution_count": 22,
   "id": "180db7a1",
   "metadata": {},
   "outputs": [],
   "source": [
    "rdd4=spark.sql(\"select count(*) as tcount from table1\")"
   ]
  },
  {
   "cell_type": "code",
   "execution_count": 28,
   "id": "234730d4",
   "metadata": {},
   "outputs": [
    {
     "name": "stdout",
     "output_type": "stream",
     "text": [
      "+------+\n",
      "|tcount|\n",
      "+------+\n",
      "| 45211|\n",
      "+------+\n",
      "\n"
     ]
    }
   ],
   "source": [
    "rdd4.show()"
   ]
  },
  {
   "cell_type": "code",
   "execution_count": 38,
   "id": "715f2e5d",
   "metadata": {},
   "outputs": [
    {
     "name": "stdout",
     "output_type": "stream",
     "text": [
      "3.34210700935613\n"
     ]
    }
   ],
   "source": [
    "print(rdd2.head()[0]/rdd4.head()[0]*100)"
   ]
  },
  {
   "cell_type": "code",
   "execution_count": 37,
   "id": "52d422cd",
   "metadata": {},
   "outputs": [
    {
     "name": "stdout",
     "output_type": "stream",
     "text": [
      "10.840282232200128\n"
     ]
    }
   ],
   "source": [
    "print(rdd3.head()[0]/rdd4.head()[0]*100)"
   ]
  },
  {
   "cell_type": "code",
   "execution_count": 40,
   "id": "ebeb3d63",
   "metadata": {},
   "outputs": [],
   "source": [
    "rdd5=spark.sql(\"select max(age) as maximum from table1\")"
   ]
  },
  {
   "cell_type": "code",
   "execution_count": 41,
   "id": "e0d22866",
   "metadata": {},
   "outputs": [
    {
     "name": "stdout",
     "output_type": "stream",
     "text": [
      "+-------+\n",
      "|maximum|\n",
      "+-------+\n",
      "|     95|\n",
      "+-------+\n",
      "\n"
     ]
    }
   ],
   "source": [
    "rdd5.show()"
   ]
  },
  {
   "cell_type": "code",
   "execution_count": 15,
   "id": "083ea718",
   "metadata": {},
   "outputs": [],
   "source": [
    "rdd8=spark.sql(\"select min(age) as minimum from table1\")"
   ]
  },
  {
   "cell_type": "code",
   "execution_count": 16,
   "id": "36e45415",
   "metadata": {},
   "outputs": [],
   "source": [
    "rdd9=spark.sql(\"select avg(age) as average from table1\")"
   ]
  },
  {
   "cell_type": "code",
   "execution_count": 17,
   "id": "90312d6a",
   "metadata": {},
   "outputs": [
    {
     "name": "stdout",
     "output_type": "stream",
     "text": [
      "+-------+\n",
      "|minimum|\n",
      "+-------+\n",
      "|     18|\n",
      "+-------+\n",
      "\n"
     ]
    }
   ],
   "source": [
    "rdd8.show()"
   ]
  },
  {
   "cell_type": "code",
   "execution_count": 18,
   "id": "49369cb7",
   "metadata": {},
   "outputs": [
    {
     "name": "stdout",
     "output_type": "stream",
     "text": [
      "+-----------------+\n",
      "|          average|\n",
      "+-----------------+\n",
      "|40.93621021432837|\n",
      "+-----------------+\n",
      "\n"
     ]
    }
   ],
   "source": [
    "rdd9.show()"
   ]
  },
  {
   "cell_type": "code",
   "execution_count": 63,
   "id": "48a349a7",
   "metadata": {},
   "outputs": [],
   "source": [
    "rdd6=spark.sql(\"select marital ,count(*) as tcount from table1 group by marital\")"
   ]
  },
  {
   "cell_type": "code",
   "execution_count": 65,
   "id": "13eec34b",
   "metadata": {},
   "outputs": [],
   "source": [
    "rdd7=spark.sql(\"select marital ,count(*) as scount from table1 where y='yes' group by marital\")"
   ]
  },
  {
   "cell_type": "code",
   "execution_count": 64,
   "id": "d3730ddf",
   "metadata": {},
   "outputs": [
    {
     "name": "stdout",
     "output_type": "stream",
     "text": [
      "+--------+------+\n",
      "| marital|tcount|\n",
      "+--------+------+\n",
      "|divorced|  5207|\n",
      "| married| 27214|\n",
      "|  single| 12790|\n",
      "+--------+------+\n",
      "\n"
     ]
    }
   ],
   "source": [
    "rdd6.show()"
   ]
  },
  {
   "cell_type": "code",
   "execution_count": 66,
   "id": "d950ed1d",
   "metadata": {},
   "outputs": [
    {
     "name": "stdout",
     "output_type": "stream",
     "text": [
      "+--------+------+\n",
      "| marital|scount|\n",
      "+--------+------+\n",
      "|divorced|   622|\n",
      "| married|  2755|\n",
      "|  single|  1912|\n",
      "+--------+------+\n",
      "\n"
     ]
    }
   ],
   "source": [
    "rdd7.show()"
   ]
  },
  {
   "cell_type": "code",
   "execution_count": 67,
   "id": "cbc97f30",
   "metadata": {},
   "outputs": [],
   "source": [
    "rdd6.createOrReplaceTempView(\"table2\")"
   ]
  },
  {
   "cell_type": "code",
   "execution_count": 70,
   "id": "7ac20426",
   "metadata": {},
   "outputs": [],
   "source": [
    "rdd7.createOrReplaceTempView(\"table3\")"
   ]
  },
  {
   "cell_type": "code",
   "execution_count": 73,
   "id": "d1ac9517",
   "metadata": {},
   "outputs": [],
   "source": [
    "df8 = spark.sql(\"select a.scount,b.* ,a.scount/b.tcount as per from table3 a left join table2 b on a.marital = b.marital\")\n"
   ]
  },
  {
   "cell_type": "code",
   "execution_count": 74,
   "id": "7d706046",
   "metadata": {},
   "outputs": [
    {
     "name": "stdout",
     "output_type": "stream",
     "text": [
      "+------+--------+------+-------------------+\n",
      "|scount| marital|tcount|                per|\n",
      "+------+--------+------+-------------------+\n",
      "|   622|divorced|  5207|0.11945458037257538|\n",
      "|  2755| married| 27214|0.10123465863158668|\n",
      "|  1912|  single| 12790| 0.1494917904612979|\n",
      "+------+--------+------+-------------------+\n",
      "\n"
     ]
    }
   ],
   "source": [
    "df8.show()"
   ]
  },
  {
   "cell_type": "code",
   "execution_count": 39,
   "id": "5d077423",
   "metadata": {},
   "outputs": [],
   "source": [
    "rdd10=spark.sql(\"select age ,count(*) as tcount from table1 group by age\")"
   ]
  },
  {
   "cell_type": "code",
   "execution_count": 35,
   "id": "3e44d8f8",
   "metadata": {},
   "outputs": [],
   "source": [
    "rdd11=spark.sql(\"select age ,count(*) as scount from table1 where y='yes' group by age\")"
   ]
  },
  {
   "cell_type": "code",
   "execution_count": 40,
   "id": "00f4cdf0",
   "metadata": {},
   "outputs": [
    {
     "name": "stdout",
     "output_type": "stream",
     "text": [
      "+---+------+\n",
      "|age|tcount|\n",
      "+---+------+\n",
      "| 51|   936|\n",
      "| 54|   811|\n",
      "| 29|  1185|\n",
      "| 69|    44|\n",
      "| 42|  1242|\n",
      "| 73|    44|\n",
      "| 87|     4|\n",
      "| 64|    74|\n",
      "| 30|  1757|\n",
      "| 34|  1930|\n",
      "| 59|   770|\n",
      "| 28|  1038|\n",
      "| 22|   129|\n",
      "| 85|     5|\n",
      "| 35|  1894|\n",
      "| 52|   911|\n",
      "| 71|    54|\n",
      "| 47|  1088|\n",
      "| 43|  1161|\n",
      "| 31|  1996|\n",
      "+---+------+\n",
      "only showing top 20 rows\n",
      "\n"
     ]
    }
   ],
   "source": [
    "rdd10.show()"
   ]
  },
  {
   "cell_type": "code",
   "execution_count": 42,
   "id": "c549e077",
   "metadata": {},
   "outputs": [],
   "source": [
    "rdd10.createOrReplaceTempView(\"table4\")"
   ]
  },
  {
   "cell_type": "code",
   "execution_count": 41,
   "id": "3e3a68a4",
   "metadata": {},
   "outputs": [
    {
     "name": "stdout",
     "output_type": "stream",
     "text": [
      "+---+------+\n",
      "|age|scount|\n",
      "+---+------+\n",
      "| 51|    77|\n",
      "| 54|    84|\n",
      "| 29|   171|\n",
      "| 69|    17|\n",
      "| 42|   111|\n",
      "| 73|    24|\n",
      "| 87|     3|\n",
      "| 64|    35|\n",
      "| 30|   217|\n",
      "| 34|   198|\n",
      "| 59|    88|\n",
      "| 28|   162|\n",
      "| 22|    40|\n",
      "| 85|     4|\n",
      "| 35|   209|\n",
      "| 52|    85|\n",
      "| 71|    25|\n",
      "| 47|   113|\n",
      "| 43|   103|\n",
      "| 31|   206|\n",
      "+---+------+\n",
      "only showing top 20 rows\n",
      "\n"
     ]
    }
   ],
   "source": [
    "rdd11.show()"
   ]
  },
  {
   "cell_type": "code",
   "execution_count": 44,
   "id": "e600cb3e",
   "metadata": {},
   "outputs": [],
   "source": [
    "rdd11.createOrReplaceTempView(\"table5\")"
   ]
  },
  {
   "cell_type": "code",
   "execution_count": 49,
   "id": "8072cad8",
   "metadata": {},
   "outputs": [],
   "source": [
    "df9 = spark.sql(\"select a.age,a.scount/b.tcount as per from table5 a left join table4 b on a.age = b.age order by per\")\n"
   ]
  },
  {
   "cell_type": "code",
   "execution_count": 50,
   "id": "63d6bdb3",
   "metadata": {},
   "outputs": [
    {
     "name": "stdout",
     "output_type": "stream",
     "text": [
      "+---+-------------------+\n",
      "|age|                per|\n",
      "+---+-------------------+\n",
      "| 50|0.07667731629392971|\n",
      "| 44| 0.0818661971830986|\n",
      "| 48|0.08224674022066199|\n",
      "| 51|0.08226495726495726|\n",
      "| 40|0.08560885608856089|\n",
      "| 45|0.08717105263157894|\n",
      "| 56|0.08740359897172237|\n",
      "| 43|0.08871662360034453|\n",
      "| 42| 0.0893719806763285|\n",
      "| 41|0.09295120061967467|\n",
      "| 52|0.09330406147091108|\n",
      "| 57|0.09420289855072464|\n",
      "| 55|0.09429280397022333|\n",
      "| 53|0.09539842873176206|\n",
      "| 39|0.09616677874915938|\n",
      "| 58| 0.0972972972972973|\n",
      "| 38|0.09822646657571624|\n",
      "| 37|0.10023584905660378|\n",
      "| 46|0.10042553191489362|\n",
      "| 49|0.10160965794768612|\n",
      "+---+-------------------+\n",
      "only showing top 20 rows\n",
      "\n"
     ]
    }
   ],
   "source": [
    "df9.show()"
   ]
  },
  {
   "cell_type": "code",
   "execution_count": 52,
   "id": "b05b0f03",
   "metadata": {},
   "outputs": [
    {
     "ename": "ParseException",
     "evalue": "\nmismatched input ' ' expecting {<EOF>, ';'}(line 1, pos 102)\n\n== SQL ==\nselect age, marital, count(*) as number from table1 where y='yes' group by age,marital order by number desc \n------------------------------------------------------------------------------------------------------^^^\n",
     "output_type": "error",
     "traceback": [
      "\u001b[1;31m---------------------------------------------------------------------------\u001b[0m",
      "\u001b[1;31mParseException\u001b[0m                            Traceback (most recent call last)",
      "Cell \u001b[1;32mIn[52], line 1\u001b[0m\n\u001b[1;32m----> 1\u001b[0m age_marital \u001b[38;5;241m=\u001b[39m \u001b[43mspark\u001b[49m\u001b[38;5;241;43m.\u001b[39;49m\u001b[43msql\u001b[49m\u001b[43m(\u001b[49m\u001b[38;5;124;43m\"\u001b[39;49m\u001b[38;5;124;43mselect age, marital, count(*) as number from table1 where y=\u001b[39;49m\u001b[38;5;124;43m'\u001b[39;49m\u001b[38;5;124;43myes\u001b[39;49m\u001b[38;5;124;43m'\u001b[39;49m\u001b[38;5;124;43m group by age,marital order by number desc \u001b[39;49m\u001b[38;5;124;43m\"\u001b[39;49m\u001b[43m)\u001b[49m\u001b[38;5;241m.\u001b[39mshow()\n",
      "File \u001b[1;32mC:\\python3.11\\Lib\\site-packages\\pyspark\\sql\\session.py:723\u001b[0m, in \u001b[0;36mSparkSession.sql\u001b[1;34m(self, sqlQuery)\u001b[0m\n\u001b[0;32m    707\u001b[0m \u001b[38;5;28;01mdef\u001b[39;00m \u001b[38;5;21msql\u001b[39m(\u001b[38;5;28mself\u001b[39m, sqlQuery):\n\u001b[0;32m    708\u001b[0m \u001b[38;5;250m    \u001b[39m\u001b[38;5;124;03m\"\"\"Returns a :class:`DataFrame` representing the result of the given query.\u001b[39;00m\n\u001b[0;32m    709\u001b[0m \n\u001b[0;32m    710\u001b[0m \u001b[38;5;124;03m    .. versionadded:: 2.0.0\u001b[39;00m\n\u001b[1;32m   (...)\u001b[0m\n\u001b[0;32m    721\u001b[0m \u001b[38;5;124;03m    [Row(f1=1, f2='row1'), Row(f1=2, f2='row2'), Row(f1=3, f2='row3')]\u001b[39;00m\n\u001b[0;32m    722\u001b[0m \u001b[38;5;124;03m    \"\"\"\u001b[39;00m\n\u001b[1;32m--> 723\u001b[0m     \u001b[38;5;28;01mreturn\u001b[39;00m DataFrame(\u001b[38;5;28;43mself\u001b[39;49m\u001b[38;5;241;43m.\u001b[39;49m\u001b[43m_jsparkSession\u001b[49m\u001b[38;5;241;43m.\u001b[39;49m\u001b[43msql\u001b[49m\u001b[43m(\u001b[49m\u001b[43msqlQuery\u001b[49m\u001b[43m)\u001b[49m, \u001b[38;5;28mself\u001b[39m\u001b[38;5;241m.\u001b[39m_wrapped)\n",
      "File \u001b[1;32mC:\\python3.11\\Lib\\site-packages\\py4j\\java_gateway.py:1321\u001b[0m, in \u001b[0;36mJavaMember.__call__\u001b[1;34m(self, *args)\u001b[0m\n\u001b[0;32m   1315\u001b[0m command \u001b[38;5;241m=\u001b[39m proto\u001b[38;5;241m.\u001b[39mCALL_COMMAND_NAME \u001b[38;5;241m+\u001b[39m\\\n\u001b[0;32m   1316\u001b[0m     \u001b[38;5;28mself\u001b[39m\u001b[38;5;241m.\u001b[39mcommand_header \u001b[38;5;241m+\u001b[39m\\\n\u001b[0;32m   1317\u001b[0m     args_command \u001b[38;5;241m+\u001b[39m\\\n\u001b[0;32m   1318\u001b[0m     proto\u001b[38;5;241m.\u001b[39mEND_COMMAND_PART\n\u001b[0;32m   1320\u001b[0m answer \u001b[38;5;241m=\u001b[39m \u001b[38;5;28mself\u001b[39m\u001b[38;5;241m.\u001b[39mgateway_client\u001b[38;5;241m.\u001b[39msend_command(command)\n\u001b[1;32m-> 1321\u001b[0m return_value \u001b[38;5;241m=\u001b[39m \u001b[43mget_return_value\u001b[49m\u001b[43m(\u001b[49m\n\u001b[0;32m   1322\u001b[0m \u001b[43m    \u001b[49m\u001b[43manswer\u001b[49m\u001b[43m,\u001b[49m\u001b[43m \u001b[49m\u001b[38;5;28;43mself\u001b[39;49m\u001b[38;5;241;43m.\u001b[39;49m\u001b[43mgateway_client\u001b[49m\u001b[43m,\u001b[49m\u001b[43m \u001b[49m\u001b[38;5;28;43mself\u001b[39;49m\u001b[38;5;241;43m.\u001b[39;49m\u001b[43mtarget_id\u001b[49m\u001b[43m,\u001b[49m\u001b[43m \u001b[49m\u001b[38;5;28;43mself\u001b[39;49m\u001b[38;5;241;43m.\u001b[39;49m\u001b[43mname\u001b[49m\u001b[43m)\u001b[49m\n\u001b[0;32m   1324\u001b[0m \u001b[38;5;28;01mfor\u001b[39;00m temp_arg \u001b[38;5;129;01min\u001b[39;00m temp_args:\n\u001b[0;32m   1325\u001b[0m     temp_arg\u001b[38;5;241m.\u001b[39m_detach()\n",
      "File \u001b[1;32mC:\\python3.11\\Lib\\site-packages\\pyspark\\sql\\utils.py:117\u001b[0m, in \u001b[0;36mcapture_sql_exception.<locals>.deco\u001b[1;34m(*a, **kw)\u001b[0m\n\u001b[0;32m    113\u001b[0m converted \u001b[38;5;241m=\u001b[39m convert_exception(e\u001b[38;5;241m.\u001b[39mjava_exception)\n\u001b[0;32m    114\u001b[0m \u001b[38;5;28;01mif\u001b[39;00m \u001b[38;5;129;01mnot\u001b[39;00m \u001b[38;5;28misinstance\u001b[39m(converted, UnknownException):\n\u001b[0;32m    115\u001b[0m     \u001b[38;5;66;03m# Hide where the exception came from that shows a non-Pythonic\u001b[39;00m\n\u001b[0;32m    116\u001b[0m     \u001b[38;5;66;03m# JVM exception message.\u001b[39;00m\n\u001b[1;32m--> 117\u001b[0m     \u001b[38;5;28;01mraise\u001b[39;00m converted \u001b[38;5;28;01mfrom\u001b[39;00m \u001b[38;5;28;01mNone\u001b[39;00m\n\u001b[0;32m    118\u001b[0m \u001b[38;5;28;01melse\u001b[39;00m:\n\u001b[0;32m    119\u001b[0m     \u001b[38;5;28;01mraise\u001b[39;00m\n",
      "\u001b[1;31mParseException\u001b[0m: \nmismatched input ' ' expecting {<EOF>, ';'}(line 1, pos 102)\n\n== SQL ==\nselect age, marital, count(*) as number from table1 where y='yes' group by age,marital order by number desc \n------------------------------------------------------------------------------------------------------^^^\n"
     ]
    }
   ],
   "source": [
    " age_marital = spark.sql(\"select age, marital, count(*) as number from table1 where y='yes' group by age,marital order by number desc \").show()"
   ]
  },
  {
   "cell_type": "code",
   "execution_count": 54,
   "id": "24515747",
   "metadata": {},
   "outputs": [
    {
     "ename": "ParseException",
     "evalue": "\nmismatched input ' ' expecting {<EOF>, ';'}(line 1, pos 102)\n\n== SQL ==\nselect age, marital, count(*) as number from table1 where y='yes' group by age,marital order by number desc \n------------------------------------------------------------------------------------------------------^^^\n",
     "output_type": "error",
     "traceback": [
      "\u001b[1;31m---------------------------------------------------------------------------\u001b[0m",
      "\u001b[1;31mParseException\u001b[0m                            Traceback (most recent call last)",
      "Cell \u001b[1;32mIn[54], line 1\u001b[0m\n\u001b[1;32m----> 1\u001b[0m age_marital \u001b[38;5;241m=\u001b[39m \u001b[43mspark\u001b[49m\u001b[38;5;241;43m.\u001b[39;49m\u001b[43msql\u001b[49m\u001b[43m(\u001b[49m\u001b[38;5;124;43m\"\u001b[39;49m\u001b[38;5;124;43mselect age, marital, count(*) as number from table1 where y=\u001b[39;49m\u001b[38;5;124;43m'\u001b[39;49m\u001b[38;5;124;43myes\u001b[39;49m\u001b[38;5;124;43m'\u001b[39;49m\u001b[38;5;124;43m group by age,marital order by number desc \u001b[39;49m\u001b[38;5;124;43m\"\u001b[39;49m\u001b[43m)\u001b[49m\u001b[38;5;241m.\u001b[39mshow()\n",
      "File \u001b[1;32mC:\\python3.11\\Lib\\site-packages\\pyspark\\sql\\session.py:723\u001b[0m, in \u001b[0;36mSparkSession.sql\u001b[1;34m(self, sqlQuery)\u001b[0m\n\u001b[0;32m    707\u001b[0m \u001b[38;5;28;01mdef\u001b[39;00m \u001b[38;5;21msql\u001b[39m(\u001b[38;5;28mself\u001b[39m, sqlQuery):\n\u001b[0;32m    708\u001b[0m \u001b[38;5;250m    \u001b[39m\u001b[38;5;124;03m\"\"\"Returns a :class:`DataFrame` representing the result of the given query.\u001b[39;00m\n\u001b[0;32m    709\u001b[0m \n\u001b[0;32m    710\u001b[0m \u001b[38;5;124;03m    .. versionadded:: 2.0.0\u001b[39;00m\n\u001b[1;32m   (...)\u001b[0m\n\u001b[0;32m    721\u001b[0m \u001b[38;5;124;03m    [Row(f1=1, f2='row1'), Row(f1=2, f2='row2'), Row(f1=3, f2='row3')]\u001b[39;00m\n\u001b[0;32m    722\u001b[0m \u001b[38;5;124;03m    \"\"\"\u001b[39;00m\n\u001b[1;32m--> 723\u001b[0m     \u001b[38;5;28;01mreturn\u001b[39;00m DataFrame(\u001b[38;5;28;43mself\u001b[39;49m\u001b[38;5;241;43m.\u001b[39;49m\u001b[43m_jsparkSession\u001b[49m\u001b[38;5;241;43m.\u001b[39;49m\u001b[43msql\u001b[49m\u001b[43m(\u001b[49m\u001b[43msqlQuery\u001b[49m\u001b[43m)\u001b[49m, \u001b[38;5;28mself\u001b[39m\u001b[38;5;241m.\u001b[39m_wrapped)\n",
      "File \u001b[1;32mC:\\python3.11\\Lib\\site-packages\\py4j\\java_gateway.py:1321\u001b[0m, in \u001b[0;36mJavaMember.__call__\u001b[1;34m(self, *args)\u001b[0m\n\u001b[0;32m   1315\u001b[0m command \u001b[38;5;241m=\u001b[39m proto\u001b[38;5;241m.\u001b[39mCALL_COMMAND_NAME \u001b[38;5;241m+\u001b[39m\\\n\u001b[0;32m   1316\u001b[0m     \u001b[38;5;28mself\u001b[39m\u001b[38;5;241m.\u001b[39mcommand_header \u001b[38;5;241m+\u001b[39m\\\n\u001b[0;32m   1317\u001b[0m     args_command \u001b[38;5;241m+\u001b[39m\\\n\u001b[0;32m   1318\u001b[0m     proto\u001b[38;5;241m.\u001b[39mEND_COMMAND_PART\n\u001b[0;32m   1320\u001b[0m answer \u001b[38;5;241m=\u001b[39m \u001b[38;5;28mself\u001b[39m\u001b[38;5;241m.\u001b[39mgateway_client\u001b[38;5;241m.\u001b[39msend_command(command)\n\u001b[1;32m-> 1321\u001b[0m return_value \u001b[38;5;241m=\u001b[39m \u001b[43mget_return_value\u001b[49m\u001b[43m(\u001b[49m\n\u001b[0;32m   1322\u001b[0m \u001b[43m    \u001b[49m\u001b[43manswer\u001b[49m\u001b[43m,\u001b[49m\u001b[43m \u001b[49m\u001b[38;5;28;43mself\u001b[39;49m\u001b[38;5;241;43m.\u001b[39;49m\u001b[43mgateway_client\u001b[49m\u001b[43m,\u001b[49m\u001b[43m \u001b[49m\u001b[38;5;28;43mself\u001b[39;49m\u001b[38;5;241;43m.\u001b[39;49m\u001b[43mtarget_id\u001b[49m\u001b[43m,\u001b[49m\u001b[43m \u001b[49m\u001b[38;5;28;43mself\u001b[39;49m\u001b[38;5;241;43m.\u001b[39;49m\u001b[43mname\u001b[49m\u001b[43m)\u001b[49m\n\u001b[0;32m   1324\u001b[0m \u001b[38;5;28;01mfor\u001b[39;00m temp_arg \u001b[38;5;129;01min\u001b[39;00m temp_args:\n\u001b[0;32m   1325\u001b[0m     temp_arg\u001b[38;5;241m.\u001b[39m_detach()\n",
      "File \u001b[1;32mC:\\python3.11\\Lib\\site-packages\\pyspark\\sql\\utils.py:117\u001b[0m, in \u001b[0;36mcapture_sql_exception.<locals>.deco\u001b[1;34m(*a, **kw)\u001b[0m\n\u001b[0;32m    113\u001b[0m converted \u001b[38;5;241m=\u001b[39m convert_exception(e\u001b[38;5;241m.\u001b[39mjava_exception)\n\u001b[0;32m    114\u001b[0m \u001b[38;5;28;01mif\u001b[39;00m \u001b[38;5;129;01mnot\u001b[39;00m \u001b[38;5;28misinstance\u001b[39m(converted, UnknownException):\n\u001b[0;32m    115\u001b[0m     \u001b[38;5;66;03m# Hide where the exception came from that shows a non-Pythonic\u001b[39;00m\n\u001b[0;32m    116\u001b[0m     \u001b[38;5;66;03m# JVM exception message.\u001b[39;00m\n\u001b[1;32m--> 117\u001b[0m     \u001b[38;5;28;01mraise\u001b[39;00m converted \u001b[38;5;28;01mfrom\u001b[39;00m \u001b[38;5;28;01mNone\u001b[39;00m\n\u001b[0;32m    118\u001b[0m \u001b[38;5;28;01melse\u001b[39;00m:\n\u001b[0;32m    119\u001b[0m     \u001b[38;5;28;01mraise\u001b[39;00m\n",
      "\u001b[1;31mParseException\u001b[0m: \nmismatched input ' ' expecting {<EOF>, ';'}(line 1, pos 102)\n\n== SQL ==\nselect age, marital, count(*) as number from table1 where y='yes' group by age,marital order by number desc \n------------------------------------------------------------------------------------------------------^^^\n"
     ]
    }
   ],
   "source": [
    "age_marital = spark.sql(\"select age, marital, count(*) as number from table1 where y='yes' group by age,marital order by number desc \").show()"
   ]
  },
  {
   "cell_type": "code",
   "execution_count": null,
   "id": "f88af24b",
   "metadata": {},
   "outputs": [],
   "source": [
    "age_marital = spark.sql(\"select age, marital, count(*) as number from table1 where y='yes' group by age,marital order by number desc \").show()"
   ]
  },
  {
   "cell_type": "code",
   "execution_count": null,
   "id": "65444674",
   "metadata": {},
   "outputs": [],
   "source": []
  }
 ],
 "metadata": {
  "kernelspec": {
   "display_name": "Python 3 (ipykernel)",
   "language": "python",
   "name": "python3"
  },
  "language_info": {
   "codemirror_mode": {
    "name": "ipython",
    "version": 3
   },
   "file_extension": ".py",
   "mimetype": "text/x-python",
   "name": "python",
   "nbconvert_exporter": "python",
   "pygments_lexer": "ipython3",
   "version": "3.11.4"
  }
 },
 "nbformat": 4,
 "nbformat_minor": 5
}
