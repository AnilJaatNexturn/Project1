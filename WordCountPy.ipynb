{
 "cells": [
  {
   "cell_type": "code",
   "execution_count": 176,
   "id": "7ed3ce36",
   "metadata": {},
   "outputs": [],
   "source": [
    "from pyspark.sql import SparkSession"
   ]
  },
  {
   "cell_type": "code",
   "execution_count": 177,
   "id": "a6c9badc",
   "metadata": {},
   "outputs": [],
   "source": [
    "pip install pyspark\n"
   ]
  },
  {
   "cell_type": "code",
   "execution_count": 178,
   "id": "b959ad6c",
   "metadata": {},
   "outputs": [],
   "source": [
    "spark = SparkSession.builder \\\n",
    "      .master(\"local[1]\") \\\n",
    "      .appName(\"demo3\") \\\n",
    "      .getOrCreate() \n",
    "sc=spark.sparkContext"
   ]
  },
  {
   "cell_type": "code",
   "execution_count": 179,
   "id": "cc59b58c",
   "metadata": {},
   "outputs": [],
   "source": [
    "rdd1=sc.textFile(\"D:/word.txt\")"
   ]
  },
  {
   "cell_type": "code",
   "execution_count": 180,
   "id": "1b8617b3",
   "metadata": {},
   "outputs": [],
   "source": [
    "llist = rdd1.collect()\n"
   ]
  },
  {
   "cell_type": "code",
   "execution_count": 181,
   "id": "866835ea",
   "metadata": {},
   "outputs": [],
   "source": [
    "for line in llist:\n",
    "\tprint(line)"
   ]
  },
  {
   "cell_type": "code",
   "execution_count": 182,
   "id": "e069b69a",
   "metadata": {},
   "outputs": [],
   "source": [
    "words = sc.textFile(\"D:/word.txt\").flatMap(lambda line: line.split(\" \"))\n"
   ]
  },
  {
   "cell_type": "code",
   "execution_count": 183,
   "id": "7b6894a5",
   "metadata": {},
   "outputs": [],
   "source": [
    "wordCounts = words.map(lambda word: (word, 1)).reduceByKey(lambda a,b:a +b)\n"
   ]
  },
  {
   "cell_type": "code",
   "execution_count": null,
   "id": "591cf91a",
   "metadata": {},
   "outputs": [],
   "source": [
    "\twordCounts.saveAsTextFile(\"D:/Training notes/output.txt\")\n",
    "\n"
   ]
  },
  {
   "cell_type": "code",
   "execution_count": null,
   "id": "cef7d89c",
   "metadata": {},
   "outputs": [],
   "source": [
    "wordCounts.show()"
   ]
  },
  {
   "cell_type": "code",
   "execution_count": null,
   "id": "b7fd6143",
   "metadata": {},
   "outputs": [],
   "source": []
  }
 ],
 "metadata": {
  "kernelspec": {
   "display_name": "Python 3 (ipykernel)",
   "language": "python",
   "name": "python3"
  },
  "language_info": {
   "codemirror_mode": {
    "name": "ipython",
    "version": 3
   },
   "file_extension": ".py",
   "mimetype": "text/x-python",
   "name": "python",
   "nbconvert_exporter": "python",
   "pygments_lexer": "ipython3",
   "version": "3.11.4"
  }
 },
 "nbformat": 4,
 "nbformat_minor": 5
}
